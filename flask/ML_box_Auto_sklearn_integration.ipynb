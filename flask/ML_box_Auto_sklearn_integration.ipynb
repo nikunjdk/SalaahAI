{
  "cells": [
    {
      "cell_type": "markdown",
      "metadata": {
        "id": "1jozLP-1_WPw"
      },
      "source": [
        "**Mobile Price Prediction using Auto Sklearn**"
      ]
    },
    {
      "cell_type": "code",
      "execution_count": 1,
      "metadata": {
        "colab": {
          "base_uri": "https://localhost:8080/",
          "height": 1000
        },
        "id": "cSXyq3u-GBuX",
        "outputId": "b4bcf3f3-285c-438e-8aeb-7936b95b9d87"
      },
      "outputs": [],
      "source": [
        "# !pip install mlbox\n",
        "# !pip install auto-sklearn"
      ]
    },
    {
      "cell_type": "code",
      "execution_count": 2,
      "metadata": {
        "id": "1WjCVzcP_qU8"
      },
      "outputs": [],
      "source": [
        "# Import libraries\n",
        "import numpy as np\n",
        "import pandas as pd\n",
        "import matplotlib.pyplot as plt\n",
        "import seaborn as sns\n",
        "import math"
      ]
    },
    {
      "cell_type": "code",
      "execution_count": 3,
      "metadata": {
        "id": "i0a8pj7UAWXn"
      },
      "outputs": [],
      "source": [
        "from mlbox.preprocessing import *\n",
        "from mlbox.optimisation import *\n",
        "from mlbox.prediction import *"
      ]
    },
    {
      "cell_type": "code",
      "execution_count": 4,
      "metadata": {
        "colab": {
          "base_uri": "https://localhost:8080/",
          "height": 387
        },
        "id": "5tvpwrs4_1AE",
        "outputId": "d8ba2f71-4f7c-4cce-ee2d-7da82c4ef79c"
      },
      "outputs": [
        {
          "name": "stderr",
          "output_type": "stream",
          "text": [
            "/home/vaibhav/.pyenv/versions/3.7.0/envs/venv34/lib/python3.7/site-packages/pandas/core/frame.py:4174: SettingWithCopyWarning: \n",
            "A value is trying to be set on a copy of a slice from a DataFrame\n",
            "\n",
            "See the caveats in the documentation: https://pandas.pydata.org/pandas-docs/stable/user_guide/indexing.html#returning-a-view-versus-a-copy\n",
            "  errors=errors,\n"
          ]
        }
      ],
      "source": [
        "target_name = \"is_happy_customer\"  #will change as per user choice\n",
        "xl=pd.read_excel('dirty_data.xls')\n",
        "ndf=xl.loc[0:int(xl.shape[0]*0.03)]  #losing 3 percent of the data, for the sake of drifting process, i.e. removing unncessary columns\n",
        "xl.drop(xl.index[0:math.ceil(xl.shape[0]*0.03)],0,inplace=True)\n",
        "ndf.drop(target_name,axis='columns', inplace=True)\n",
        "ndf.to_excel('test.xls')\n",
        "xl.to_excel('train.xls')\n",
        "paths=[\"train.xls\",\"test.xls\"]\n"
      ]
    },
    {
      "cell_type": "code",
      "execution_count": 5,
      "metadata": {
        "id": "cmj_83ni_7qX"
      },
      "outputs": [
        {
          "name": "stdout",
          "output_type": "stream",
          "text": [
            "\n",
            "reading xls : train.xls ...\n",
            "cleaning data ...\n",
            "CPU time: 5.452819585800171 seconds\n",
            "\n",
            "reading xls : test.xls ...\n",
            "cleaning data ...\n",
            "CPU time: 0.06067371368408203 seconds\n",
            "\n",
            "> Number of common features : 13\n",
            "\n",
            "gathering and crunching for train and test datasets ...\n",
            "reindexing for train and test datasets ...\n",
            "dropping training duplicates ...\n",
            "dropping constant variables on training set ...\n",
            "\n",
            "> Number of categorical features: 5\n",
            "> Number of numerical features: 8\n",
            "> Number of training samples : 386\n",
            "> Number of test samples : 12\n",
            "\n",
            "> You have no missing values on train set...\n",
            "\n",
            "> Task : classification\n",
            "1.0    277\n",
            "0.0    109\n",
            "Name: is_happy_customer, dtype: int64\n",
            "\n",
            "encoding target ...\n"
          ]
        }
      ],
      "source": [
        "rd = Reader(sep = ',')\n",
        "df = rd.train_test_split(paths, target_name)"
      ]
    },
    {
      "cell_type": "code",
      "execution_count": 6,
      "metadata": {
        "id": "FPJYassf8v5l"
      },
      "outputs": [
        {
          "name": "stdout",
          "output_type": "stream",
          "text": [
            "\n",
            "computing drifts ...\n",
            "CPU time: 0.13759779930114746 seconds\n",
            "\n",
            "> Top 10 drifts\n",
            "\n",
            "('customer_id', 1.0)\n",
            "('order_id', 1.0)\n",
            "('shopping_cart', 0.9948186528497409)\n",
            "('coupon_discount', 0.46027633851468064)\n",
            "('nearest_warehouse', 0.28411053540587217)\n",
            "('order_price', 0.1567357512953369)\n",
            "('is_expedited_delivery', 0.14853195164075972)\n",
            "('distance_to_nearest_warehouse', 0.13428324697754745)\n",
            "('customer_lat', 0.10535405872193415)\n",
            "('order_total', 0.07599309153713296)\n",
            "\n",
            "> Deleted variables : ['customer_id', 'order_id', 'shopping_cart']\n",
            "> Drift coefficients dumped into directory : save\n"
          ]
        }
      ],
      "source": [
        "dft = Drift_thresholder()\n",
        "df = dft.fit_transform(df) # this drops the unncessary columns automatically, like ids, and anything which isn't useful."
      ]
    },
    {
      "cell_type": "code",
      "execution_count": 7,
      "metadata": {
        "id": "MfwGDeYAT0-j"
      },
      "outputs": [],
      "source": [
        "#this converts any remaining object columns, into categorical, since thats the only remaining type \n",
        "for col in df['train'].columns:\n",
        "  if df['train'].dtypes[col] == np.object:\n",
        "    df['train'] = df['train'].astype({col:'category'})"
      ]
    },
    {
      "cell_type": "code",
      "execution_count": 8,
      "metadata": {
        "id": "83wuhlwjUutc"
      },
      "outputs": [
        {
          "name": "stdout",
          "output_type": "stream",
          "text": [
            "<class 'pandas.core.frame.DataFrame'>\n",
            "Int64Index: 386 entries, 0 to 385\n",
            "Data columns (total 10 columns):\n",
            " #   Column                         Non-Null Count  Dtype   \n",
            "---  ------                         --------------  -----   \n",
            " 0   coupon_discount                386 non-null    float64 \n",
            " 1   customer_lat                   386 non-null    float64 \n",
            " 2   customer_long                  386 non-null    float64 \n",
            " 3   delivery_charges               386 non-null    float64 \n",
            " 4   distance_to_nearest_warehouse  386 non-null    float64 \n",
            " 5   is_expedited_delivery          386 non-null    float64 \n",
            " 6   nearest_warehouse              386 non-null    category\n",
            " 7   order_price                    386 non-null    float64 \n",
            " 8   order_total                    386 non-null    float64 \n",
            " 9   season                         386 non-null    category\n",
            "dtypes: category(2), float64(8)\n",
            "memory usage: 28.5 KB\n"
          ]
        }
      ],
      "source": [
        "#confirming that all columns have the right datatype\n",
        "df['train'].info()"
      ]
    },
    {
      "cell_type": "code",
      "execution_count": 9,
      "metadata": {
        "id": "n5HIPtmAiPGi"
      },
      "outputs": [],
      "source": [
        "# Split train and test set\n",
        "from sklearn.model_selection import train_test_split\n",
        "X_train,X_test,Y_train,Y_test = train_test_split(df['train'],df['target'],test_size=0.2,random_state=42)"
      ]
    },
    {
      "cell_type": "code",
      "execution_count": 10,
      "metadata": {
        "id": "LthKyvs8jI9B"
      },
      "outputs": [
        {
          "name": "stdout",
          "output_type": "stream",
          "text": [
            "AutoSkLearn Model Accuracy: 91.025641%\n"
          ]
        }
      ],
      "source": [
        "# Training\n",
        "#for now, this code will work on classification task. Similarly can be done for regression.\n",
        "import autosklearn.classification\n",
        "#time left for task, is in seconds, it decides how long to train the model. Can be a user input, to improve accuracy on very large datasets\n",
        "automl = autosklearn.classification.AutoSklearnClassifier(time_left_for_this_task=240,per_run_time_limit=30)\n",
        "automl.fit(X_train,Y_train)\n",
        "print(\"AutoSkLearn Model Accuracy: {:2f}%\".format(automl.score(X_test,Y_test)*100))"
      ]
    },
    {
      "cell_type": "code",
      "execution_count": 11,
      "metadata": {},
      "outputs": [],
      "source": [
        "import pickle\n",
        "# save the model to disk\n",
        "filename = 'finalized_model.sav'\n",
        "pickle.dump(automl, open(filename, 'wb'))"
      ]
    },
    {
      "cell_type": "code",
      "execution_count": 12,
      "metadata": {},
      "outputs": [],
      "source": [
        "loaded_model = pickle.load(open(filename, 'rb'))"
      ]
    },
    {
      "cell_type": "code",
      "execution_count": 13,
      "metadata": {
        "id": "fuKdAxXjlqyr"
      },
      "outputs": [
        {
          "name": "stdout",
          "output_type": "stream",
          "text": [
            "auto-sklearn results:\n",
            "  Dataset name: 11ba2848-2dda-11ec-a21e-00155df4b369\n",
            "  Metric: accuracy\n",
            "  Best validation score: 0.882353\n",
            "  Number of target algorithm runs: 48\n",
            "  Number of successful target algorithm runs: 47\n",
            "  Number of crashed target algorithm runs: 0\n",
            "  Number of target algorithms that exceeded the time limit: 1\n",
            "  Number of target algorithms that exceeded the memory limit: 0\n",
            "\n"
          ]
        }
      ],
      "source": [
        "#shows stats of the training process\n",
        "print(loaded_model.sprint_statistics())"
      ]
    },
    {
      "cell_type": "code",
      "execution_count": 14,
      "metadata": {
        "id": "5Ypf9yxgXuMO"
      },
      "outputs": [
        {
          "name": "stdout",
          "output_type": "stream",
          "text": [
            "          rank  ensemble_weight               type      cost  duration\n",
            "model_id                                                              \n",
            "45           1             0.02                sgd  0.117647  1.194382\n",
            "40           2             0.02                sgd  0.127451  1.058690\n",
            "17           3             0.02  gradient_boosting  0.176471  1.655259\n",
            "29           4             0.04           adaboost  0.205882  1.641421\n",
            "44           5             0.02       bernoulli_nb  0.225490  1.222593\n",
            "27           6             0.02                lda  0.245098  1.090954\n",
            "36           7             0.42                sgd  0.294118  1.034279\n",
            "41           8             0.02        extra_trees  0.333333  2.366200\n",
            "31           9             0.42                sgd  0.382353  0.999049\n"
          ]
        }
      ],
      "source": [
        "#shows the different algorithms tested, and their ranks\n",
        "print(loaded_model.leaderboard())"
      ]
    },
    {
      "cell_type": "code",
      "execution_count": 15,
      "metadata": {
        "id": "DGKYrUQnqZ6T"
      },
      "outputs": [
        {
          "data": {
            "text/html": [
              "<div>\n",
              "<style scoped>\n",
              "    .dataframe tbody tr th:only-of-type {\n",
              "        vertical-align: middle;\n",
              "    }\n",
              "\n",
              "    .dataframe tbody tr th {\n",
              "        vertical-align: top;\n",
              "    }\n",
              "\n",
              "    .dataframe thead th {\n",
              "        text-align: right;\n",
              "    }\n",
              "</style>\n",
              "<table border=\"1\" class=\"dataframe\">\n",
              "  <thead>\n",
              "    <tr style=\"text-align: right;\">\n",
              "      <th></th>\n",
              "      <th>coupon_discount</th>\n",
              "      <th>customer_lat</th>\n",
              "      <th>customer_long</th>\n",
              "      <th>delivery_charges</th>\n",
              "      <th>distance_to_nearest_warehouse</th>\n",
              "      <th>is_expedited_delivery</th>\n",
              "      <th>nearest_warehouse</th>\n",
              "      <th>order_price</th>\n",
              "      <th>order_total</th>\n",
              "      <th>season</th>\n",
              "    </tr>\n",
              "  </thead>\n",
              "  <tbody>\n",
              "    <tr>\n",
              "      <th>336</th>\n",
              "      <td>25.0</td>\n",
              "      <td>-37.818112</td>\n",
              "      <td>144.948641</td>\n",
              "      <td>75.41</td>\n",
              "      <td>0.6211</td>\n",
              "      <td>0.0</td>\n",
              "      <td>Thompson</td>\n",
              "      <td>23900.0</td>\n",
              "      <td>18000.41</td>\n",
              "      <td>Spring</td>\n",
              "    </tr>\n",
              "    <tr>\n",
              "      <th>307</th>\n",
              "      <td>5.0</td>\n",
              "      <td>-37.819576</td>\n",
              "      <td>144.963249</td>\n",
              "      <td>48.99</td>\n",
              "      <td>0.5649</td>\n",
              "      <td>0.0</td>\n",
              "      <td>Nickolson</td>\n",
              "      <td>14950.0</td>\n",
              "      <td>14251.49</td>\n",
              "      <td>Autumn</td>\n",
              "    </tr>\n",
              "    <tr>\n",
              "      <th>90</th>\n",
              "      <td>10.0</td>\n",
              "      <td>-37.818592</td>\n",
              "      <td>145.005238</td>\n",
              "      <td>79.50</td>\n",
              "      <td>1.3000</td>\n",
              "      <td>1.0</td>\n",
              "      <td>Bakers</td>\n",
              "      <td>18295.0</td>\n",
              "      <td>16545.00</td>\n",
              "      <td>Summer</td>\n",
              "    </tr>\n",
              "    <tr>\n",
              "      <th>265</th>\n",
              "      <td>5.0</td>\n",
              "      <td>-37.811595</td>\n",
              "      <td>144.945697</td>\n",
              "      <td>76.34</td>\n",
              "      <td>0.1702</td>\n",
              "      <td>1.0</td>\n",
              "      <td>Thompson</td>\n",
              "      <td>7760.0</td>\n",
              "      <td>507327.39</td>\n",
              "      <td>Autumn</td>\n",
              "    </tr>\n",
              "    <tr>\n",
              "      <th>150</th>\n",
              "      <td>10.0</td>\n",
              "      <td>-37.814972</td>\n",
              "      <td>144.960240</td>\n",
              "      <td>80.74</td>\n",
              "      <td>0.9127</td>\n",
              "      <td>1.0</td>\n",
              "      <td>Nickolson</td>\n",
              "      <td>8125.0</td>\n",
              "      <td>7393.24</td>\n",
              "      <td>Autumn</td>\n",
              "    </tr>\n",
              "  </tbody>\n",
              "</table>\n",
              "</div>"
            ],
            "text/plain": [
              "     coupon_discount  customer_lat  customer_long  delivery_charges  \\\n",
              "336             25.0    -37.818112     144.948641             75.41   \n",
              "307              5.0    -37.819576     144.963249             48.99   \n",
              "90              10.0    -37.818592     145.005238             79.50   \n",
              "265              5.0    -37.811595     144.945697             76.34   \n",
              "150             10.0    -37.814972     144.960240             80.74   \n",
              "\n",
              "     distance_to_nearest_warehouse  is_expedited_delivery nearest_warehouse  \\\n",
              "336                         0.6211                    0.0          Thompson   \n",
              "307                         0.5649                    0.0         Nickolson   \n",
              "90                          1.3000                    1.0            Bakers   \n",
              "265                         0.1702                    1.0          Thompson   \n",
              "150                         0.9127                    1.0         Nickolson   \n",
              "\n",
              "     order_price  order_total  season  \n",
              "336      23900.0     18000.41  Spring  \n",
              "307      14950.0     14251.49  Autumn  \n",
              "90       18295.0     16545.00  Summer  \n",
              "265       7760.0    507327.39  Autumn  \n",
              "150       8125.0      7393.24  Autumn  "
            ]
          },
          "execution_count": 15,
          "metadata": {},
          "output_type": "execute_result"
        }
      ],
      "source": [
        "X_test.head()"
      ]
    },
    {
      "cell_type": "code",
      "execution_count": 16,
      "metadata": {
        "id": "7riWpyurJuI9"
      },
      "outputs": [],
      "source": [
        "#test input\n",
        "t=X_test.iloc[[3]]"
      ]
    },
    {
      "cell_type": "code",
      "execution_count": 17,
      "metadata": {
        "id": "XoHgNqKoJ5Ws"
      },
      "outputs": [
        {
          "data": {
            "text/plain": [
              "265    1\n",
              "Name: is_happy_customer, dtype: int64"
            ]
          },
          "execution_count": 17,
          "metadata": {},
          "output_type": "execute_result"
        }
      ],
      "source": [
        "Y_test.iloc[[3]]"
      ]
    },
    {
      "cell_type": "code",
      "execution_count": 18,
      "metadata": {
        "id": "oWSENAN9KJ8N"
      },
      "outputs": [
        {
          "data": {
            "text/plain": [
              "1"
            ]
          },
          "execution_count": 18,
          "metadata": {},
          "output_type": "execute_result"
        }
      ],
      "source": [
        "loaded_model.predict(t)[0]"
      ]
    },
    {
      "cell_type": "code",
      "execution_count": null,
      "metadata": {
        "id": "DpRrW0-GKPxV"
      },
      "outputs": [],
      "source": []
    }
  ],
  "metadata": {
    "colab": {
      "collapsed_sections": [],
      "name": "ML_box_Auto_sklearn_integration.ipynb",
      "provenance": []
    },
    "interpreter": {
      "hash": "b3a84fdc717324448d74d2940752a5c60cc0362a81fda4a632b90262df0d0830"
    },
    "kernelspec": {
      "display_name": "Python 3.7.0 64-bit ('venv34': pyenv)",
      "name": "python3"
    },
    "language_info": {
      "codemirror_mode": {
        "name": "ipython",
        "version": 3
      },
      "file_extension": ".py",
      "mimetype": "text/x-python",
      "name": "python",
      "nbconvert_exporter": "python",
      "pygments_lexer": "ipython3",
      "version": "3.7.0"
    }
  },
  "nbformat": 4,
  "nbformat_minor": 0
}
